{
 "cells": [
  {
   "cell_type": "code",
   "execution_count": 1,
   "metadata": {
    "collapsed": false
   },
   "outputs": [],
   "source": [
    "import logging\n",
    "import entrez_mesh_functions as mf\n",
    "from datetime import date"
   ]
  },
  {
   "cell_type": "code",
   "execution_count": null,
   "metadata": {
    "collapsed": true
   },
   "outputs": [],
   "source": [
    "logging.basicConfig(format='%(asctime)s %(message)s', filename='mesh.log',level=logging.DEBUG)\n",
    "logging.info('Started')"
   ]
  },
  {
   "cell_type": "code",
   "execution_count": 2,
   "metadata": {
    "collapsed": true
   },
   "outputs": [],
   "source": [
    "# Update this path to point to file with alchemy login details\n",
    "\n",
    "engine = mf.create_db_conn('/homes/ines/alchemy_ines_login.txt')"
   ]
  },
  {
   "cell_type": "code",
   "execution_count": null,
   "metadata": {
    "collapsed": false
   },
   "outputs": [],
   "source": [
    "# Get all available years from ChEMBL, by year is an arbitrary division really, could be simplified and just do in batches based on pmid\n",
    "#chembl_years = [result[0] for result in engine.execute('select distinct year from chembl_21.docs where pubmed_id is not null').fetchall()]\n",
    "\n",
    "# As an example, do a few years\n",
    "chembl_years = [2005, 2011, 2013]"
   ]
  },
  {
   "cell_type": "code",
   "execution_count": 8,
   "metadata": {
    "collapsed": false
   },
   "outputs": [],
   "source": [
    "table_names = [name.format(date.today()) for name in ['mesh_annotations_{:%m%d%Y}', 'mesh_descriptors_{:%m%d%Y}', 'mesh_qualifiers_{:%m%d%Y}']]"
   ]
  },
  {
   "cell_type": "code",
   "execution_count": 9,
   "metadata": {
    "collapsed": false
   },
   "outputs": [],
   "source": [
    "#mf.create_db_tables(engine, annotation_table = table_names[0], descriptors_table = table_names[1], qualifiers_table=table_names[2])"
   ]
  },
  {
   "cell_type": "code",
   "execution_count": null,
   "metadata": {
    "collapsed": true
   },
   "outputs": [],
   "source": [
    "#mf.clear_all_tables(engine)"
   ]
  },
  {
   "cell_type": "code",
   "execution_count": null,
   "metadata": {
    "collapsed": false
   },
   "outputs": [],
   "source": [
    "for current_year in chembl_years:\n",
    "    logging.info('Now starting year {} '.format(str(current_year)))\n",
    "\n",
    "    my_ids = mf.get_pmids(engine, year = current_year)\n",
    "    my_tree = mf.entrez_post_fetch(ids= my_ids, email = 'ines@ebi.ac.uk')\n",
    "    mf.save_data(engine, tree = my_tree, annotation_table = table_names[0], descriptors_table = table_names[1], qualifiers_table=table_names[2])\n",
    "\n",
    "    logging.info('Now finished year {} '.format(str(current_year)))\n"
   ]
  },
  {
   "cell_type": "code",
   "execution_count": null,
   "metadata": {
    "collapsed": true
   },
   "outputs": [],
   "source": [
    "logging.info('Finished script')"
   ]
  }
 ],
 "metadata": {
  "kernelspec": {
   "display_name": "Python 3",
   "language": "python",
   "name": "python3"
  },
  "language_info": {
   "codemirror_mode": {
    "name": "ipython",
    "version": 3
   },
   "file_extension": ".py",
   "mimetype": "text/x-python",
   "name": "python",
   "nbconvert_exporter": "python",
   "pygments_lexer": "ipython3",
   "version": "3.4.4"
  }
 },
 "nbformat": 4,
 "nbformat_minor": 0
}
