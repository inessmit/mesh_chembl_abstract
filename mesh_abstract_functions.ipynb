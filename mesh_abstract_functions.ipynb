{
 "cells": [
  {
   "cell_type": "code",
   "execution_count": 1,
   "metadata": {
    "collapsed": false
   },
   "outputs": [],
   "source": [
    "import requests\n",
    "from lxml import etree\n",
    "import sqlalchemy as alchemy\n",
    "import logging\n",
    "from Bio import Entrez"
   ]
  },
  {
   "cell_type": "code",
   "execution_count": null,
   "metadata": {
    "collapsed": false
   },
   "outputs": [],
   "source": [
    "def create_db_conn(filepath):\n",
    "    \"\"\"Open file with login details and create connection to chempro.\n",
    "    kwargs: filepath -- string\"\"\"\n",
    "    \n",
    "    with open(filepath) as f:\n",
    "        login = f.read().strip()\n",
    "    engine = alchemy.create_engine(login)\n",
    "    logging.info('create_db_conn -- created connection to Oracle')\n",
    "    return engine\n",
    "\n",
    "# Alternative to this function you can establish connection to chempro:\n",
    "# Use alchemy.create_engine('oracle://{}:{}@ora-vm5-023.ebi.ac.uk:1531/Chempro'.format(user, password))"
   ]
  },
  {
   "cell_type": "code",
   "execution_count": null,
   "metadata": {
    "collapsed": true
   },
   "outputs": [],
   "source": [
    "def create_db_tables(engine, annotation_table, descriptors_table, qualifiers_table):\n",
    "    \"\"\"Create tables for storing mesh annotations in my own Oracle area. Only needs to be done once.\n",
    "    kwargs: engine -- db engine\n",
    "            annotation_table -- string, name of the table for storing the pmid together with ids for descriptors and qualifiers\n",
    "            descriptors_table -- string, name of the table for storing descriptor unique id together with descriptor heading/text\n",
    "            qualifiers_table -- string, name of the table for storing qualifier unique id together with qualifier heading/text \"\"\"\n",
    "    \n",
    "    # create table mesh annotations\n",
    "\n",
    "    engine.execute('''\n",
    "    create table {}\n",
    "    (\n",
    "      year int\n",
    "    , pmid int\n",
    "    , descriptor_ui varchar2(50)\n",
    "    , qualifier_ui varchar(50)\n",
    "    , primary key (pmid,descriptor_ui)\n",
    "    )\n",
    "    '''.format(annotation_table))\n",
    "    \n",
    "    # create table mesh descriptors\n",
    "\n",
    "    engine.execute('''\n",
    "    create table {}\n",
    "    (\n",
    "      descriptor_ui varchar(50)\n",
    "    , descriptor_text varchar(200)\n",
    "    , primary key(descriptor_ui, descriptor_text))\n",
    "    '''.format(descriptors_table))\n",
    "    \n",
    "    # create table mesh qualifiers\n",
    "\n",
    "    engine.execute('''\n",
    "    create table {}\n",
    "    (\n",
    "    qualifier_ui varchar(50)\n",
    "    , qualifier_text varchar(200)\n",
    "    , primary key(qualifier_ui, qualifier_text)\n",
    "    )\n",
    "    '''.format(qualifiers_table))\n",
    "    \n",
    "    logging.info('create_db_tables -- created tables')"
   ]
  },
  {
   "cell_type": "code",
   "execution_count": null,
   "metadata": {
    "collapsed": false
   },
   "outputs": [],
   "source": [
    "def get_pmids(engine, year):\n",
    "    \"\"\"Gets list of pmids from ChEMBL for a given year\n",
    "    kwargs: engine -- db connection\n",
    "            year -- year of publication (arbitrary split of the data)\"\"\"\n",
    "    \n",
    "    ids = ''\n",
    "    sql = '''select pubmed_id from chembl_21.docs where pubmed_id is not null and year = {}'''.format(str(year))\n",
    "    \n",
    "    result = engine.execute(sql).fetchall()\n",
    "    result_len = len(result)\n",
    "    #ids = ','.join(str(i[0]) for i in result)\n",
    "    ids = [i[0] for i in result]\n",
    "    \n",
    "    logging.info('get_pmids -- got pmids')\n",
    "    \n",
    "    return ids"
   ]
  },
  {
   "cell_type": "code",
   "execution_count": null,
   "metadata": {
    "collapsed": false
   },
   "outputs": [],
   "source": [
    "def entrez_post_fetch(ids, email):\n",
    "    '''Use Biopython Entrez module to post ids to NCBI server (Entrez automatically uses HTTP post if = number of ids > 200) \n",
    "    and use efetch with history (taking webenv and key data from epost returned XML) to get result XML. Return etree element.\n",
    "    kwargs: ids -- list of pubmed ids\n",
    "            email -- email address should always be specified for using Entrez Web Services'''\n",
    "    \n",
    "    Entrez.email = email # Should always be specified when using Entrez Web Services, otherwise run the risk of being blocked in case of overuse without them being able to contact you.\n",
    "    \n",
    "    result0 = Entrez.epost('pubmed', id=','.join([str(my_id) for my_id in ids])).read()\n",
    "    tree0 = etree.fromstring(result0)\n",
    "    key, env = tree0.xpath('//QueryKey/text()')[0], tree0.xpath('//WebEnv/text()')[0]\n",
    "    logging.info('got key and webenv info')\n",
    "\n",
    "    result1 = Entrez.efetch(db='pubmed', retmode='xml', webenv = env, query_key = key).read()\n",
    "    tree1 = etree.fromstring(result1)\n",
    "    logging.info('got result from efetch')\n",
    "    return tree1"
   ]
  },
  {
   "cell_type": "code",
   "execution_count": null,
   "metadata": {
    "collapsed": true
   },
   "outputs": [],
   "source": [
    "def clear_all_tables(engine, annotation_table, descriptors_table, qualifiers_table):\n",
    "    \n",
    "    '''Delete all records in the tables mesh_descriptors, mesh_qualifiers, and mesh_annotations tables. Leaves empty tables.\n",
    "    kwargs: engine -- db engine\n",
    "            annotation_table -- string, name of the table for storing the pmid together with ids for descriptors and qualifiers\n",
    "            descriptors_table -- string, name of the table for storing descriptor unique id together with descriptor heading/text\n",
    "            qualifiers_table -- string, name of the table for storing qualifier unique id together with qualifier heading/text'''\n",
    "\n",
    "        \n",
    "    engine.execute('delete from {}'.format(annotation_table))\n",
    "    engine.execute('delete from {}'.format(descriptors_table))\n",
    "    engine.execute('delete from {}'.format(qualifier_table))\n",
    "    \n",
    "    logging.info('clear_all_tables -- cleared all tables')"
   ]
  },
  {
   "cell_type": "code",
   "execution_count": null,
   "metadata": {
    "collapsed": false
   },
   "outputs": [],
   "source": [
    "def save_data(engine, tree, annotation_table, descriptors_table, qualifiers_table):\n",
    "    \"\"\"For each article(pmid) get mesh annotations, i.e. descriptors and optionally qualifiers. Insert into tables in user area which were created previously.\n",
    "    kwargs: engine -- db engine\n",
    "            tree -- lxml Etree XML element from efetch (see post_fetch function)\"\"\"\n",
    "    \n",
    "    \n",
    "    for article in tree.xpath('PubmedArticle'):\n",
    "            pmid = article.xpath('./MedlineCitation/PMID/text()')[0]\n",
    "            \n",
    "            try:\n",
    "                headings = article.xpath('.//MeshHeadingList')[0].iterchildren()\n",
    "            except IndexError:\n",
    "                logging.info('save_data: IndexError exception for ' + pmid + ' -- article XML does not have MeshHeadingList') # not all articles have MeSH terms\n",
    "                continue\n",
    "\n",
    "            for heading in headings:\n",
    "\n",
    "                qualifier_ui, qualifier_text = ('','') # make this empty because not all descriptors have qualifiers\n",
    "                full_fields = [(i.tag, i.get('UI'), i.text) for i in heading.iterchildren()]\n",
    "\n",
    "                descriptor_ui, descriptor_text  = (full_fields[0][1].replace(\"'\", \"''\"), full_fields[0][2].replace(\"'\", \"''\"))\n",
    "\n",
    "                engine.execute('''\n",
    "                insert into {0} (descriptor_ui, descriptor_text)\n",
    "                select '{1}', '{2}' from dual\n",
    "                where not exists(select * from {0} where (descriptor_ui = '{1}' and descriptor_text = '{2}'))\n",
    "                '''.format(descriptors_table, descriptor_ui, descriptor_text))\n",
    "                \n",
    "                if len(full_fields) > 1: # This is in the case there are qualifiers.\n",
    "                    \n",
    "                    qualifier_ui, qualifier_text  = (full_fields[1][1].replace(\"'\", \"''\"), full_fields[1][2].replace(\"'\", \"''\"))\n",
    "\n",
    "                    engine.execute('''\n",
    "                    insert into {0} (qualifier_ui, qualifier_text)\n",
    "                    select '{1}', '{2}' from dual\n",
    "                    where not exists(select * from {0} where (qualifier_ui = '{1}' and qualifier_text = '{2}'))\n",
    "                    '''.format(qualifiers_table, qualifier_ui, qualifier_text))\n",
    "\n",
    "                    engine.execute('''\n",
    "                    insert into {0} (pmid, descriptor_ui, qualifier_ui)\n",
    "                    select {1}, '{2}', '{3}' from dual\n",
    "                    where not exists(select pmid, descriptor_ui from {0} where (pmid = {1} and descriptor_ui = '{2}'))\n",
    "                    '''.format(annotation_table, pmid, descriptor_ui, qualifier_ui))\n",
    "                    \n",
    "                else: # This is in the case there are no qualifiers.\n",
    "\n",
    "                    engine.execute('''\n",
    "                    insert into {0} (pmid, descriptor_ui)\n",
    "                    select {1}, '{2}' from dual\n",
    "                    where not exists(select pmid, descriptor_ui from {0} where (pmid = {1} and descriptor_ui = '{2}'))\n",
    "                    '''.format(annotation_table, pmid, descriptor_ui))\n",
    "    \n",
    "    logging.info('save_data -- inserted mesh annotations into oracle tables')\n",
    "\n",
    "    \n"
   ]
  }
 ],
 "metadata": {
  "kernelspec": {
   "display_name": "Python 3",
   "language": "python",
   "name": "python3"
  },
  "language_info": {
   "codemirror_mode": {
    "name": "ipython",
    "version": 3
   },
   "file_extension": ".py",
   "mimetype": "text/x-python",
   "name": "python",
   "nbconvert_exporter": "python",
   "pygments_lexer": "ipython3",
   "version": "3.4.4"
  }
 },
 "nbformat": 4,
 "nbformat_minor": 0
}
